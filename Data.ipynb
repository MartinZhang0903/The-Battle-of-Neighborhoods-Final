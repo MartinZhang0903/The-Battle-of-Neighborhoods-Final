{
  "nbformat": 4,
  "nbformat_minor": 0,
  "metadata": {
    "colab": {
      "name": "Data.ipynb",
      "provenance": []
    },
    "kernelspec": {
      "name": "python3",
      "display_name": "Python 3"
    }
  },
  "cells": [
    {
      "cell_type": "code",
      "metadata": {
        "id": "fnp9Y5ayJDQa"
      },
      "source": [
        ""
      ],
      "execution_count": null,
      "outputs": []
    },
    {
      "cell_type": "markdown",
      "metadata": {
        "id": "pz214gBEJFKu"
      },
      "source": [
        "**Data:**\n",
        "\n",
        "In order to select a restaurant, we need to access the following data:\n",
        "\n",
        "• Neighborhoods in New York and Toronto\n",
        "\n",
        "From the above table, we will add data to build our analysis.\n",
        "\n",
        "Coordinates of these locations (latitude, longitude) from the FourSquare API to the two cities. We will use this type of map to identify our venue location:\n",
        "\n",
        "From Foursquare we will need the following venue data:\n",
        "\n",
        "• School information\n",
        "\n",
        "• Different restaurant information, then we will use this data to determine which place is the most suitable to determine the location of the restaurant."
      ]
    }
  ]
}