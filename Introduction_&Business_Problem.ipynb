{
  "nbformat": 4,
  "nbformat_minor": 0,
  "metadata": {
    "colab": {
      "name": "Introduction &Business Problem.ipynb",
      "provenance": []
    },
    "kernelspec": {
      "name": "python3",
      "display_name": "Python 3"
    }
  },
  "cells": [
    {
      "cell_type": "markdown",
      "metadata": {
        "id": "vkOTRBs7H3yB"
      },
      "source": [
        "**Introduction:**\n",
        "\n",
        "My parents are looking to open a restaurant, where would I recommend that they open it? So, I explore the different restaurant distribution in different city, New York City and Toronto.\n",
        "\n",
        "**Business Problem:**\n",
        "\n",
        "For restaurant information. We will need to use some information about the New York and Toronto areas. We have to make sure that there are enough customers and that there aren't too many restaurants in the area. Therefore, we need to analyze the different scenarios in the region to ensure the restaurant's success in the region. We try to avoid other restaurants in the area and we are looking for one that has:\n",
        "\n",
        "School information for different districts\n",
        "\n",
        "Restaurant information\n",
        "\n",
        "For this project, our main focus is to establish a restaurant complex in the area around the two cities to ensure the maximum profitability of the new busines.\n"
      ]
    }
  ]
}